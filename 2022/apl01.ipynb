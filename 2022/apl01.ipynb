{
 "cells": [
  {
   "cell_type": "markdown",
   "id": "4a15614b",
   "metadata": {},
   "source": [
    "Her er min løsning til Advent of Code 2022, Dag 1 i APL:"
   ]
  },
  {
   "cell_type": "code",
   "execution_count": 1,
   "id": "f279426c",
   "metadata": {},
   "outputs": [],
   "source": [
    "data ← ⊃⎕NGET'/Users/trulshj/dev/aoc/2022/inputs/day01.txt'1"
   ]
  },
  {
   "cell_type": "code",
   "execution_count": 2,
   "id": "5d6071a3",
   "metadata": {},
   "outputs": [
    {
     "data": {
      "text/html": [
       "<pre class=\"language-APL\">24000 45000\n",
       "</pre>"
      ]
     },
     "execution_count": 2,
     "metadata": {},
     "output_type": "execute_result"
    }
   ],
   "source": [
    "(+\\ (⊂∘⍒⌷⊢) (+/⍎¨)¨ (≢¨⊆⊢) data)[1 3]"
   ]
  },
  {
   "cell_type": "markdown",
   "id": "96765369",
   "metadata": {},
   "source": [
    "WTF?! ^"
   ]
  },
  {
   "cell_type": "markdown",
   "id": "bfbfc8b7",
   "metadata": {},
   "source": [
    "_\"Hvorfor gjør du dette mot deg selv?\"_ tenker du kanskje, _\"det er jo uleselig!\"_\n",
    "\n",
    "Og ja jo, det virker kanskje sånn i starten, men samtidig kan det være et litt uærlig utsagn. \n",
    "\n",
    "Kinesisk eller japansk er jo også uleselig dersom du ikke kan det, men likevel finnes det milliarder av mennesker som snakker og skriver de språkene."
   ]
  },
  {
   "cell_type": "markdown",
   "id": "0625836f",
   "metadata": {},
   "source": [
    "La oss ta det ett steg av gangen :)"
   ]
  },
  {
   "cell_type": "markdown",
   "id": "b8763355",
   "metadata": {},
   "source": [
    "Først kan vi skru på \"Boxing\" sånn at APL viser oss tydeligere hvordan dataen vår faktisk ser ut"
   ]
  },
  {
   "cell_type": "code",
   "execution_count": 3,
   "id": "d5ca53e8",
   "metadata": {},
   "outputs": [
    {
     "data": {
      "text/html": [
       "<pre class=\"language-APL\">Was ON\n",
       "</pre>"
      ]
     },
     "execution_count": 3,
     "metadata": {},
     "output_type": "execute_result"
    }
   ],
   "source": [
    "]Boxing ON"
   ]
  },
  {
   "cell_type": "markdown",
   "id": "7509bbbb",
   "metadata": {},
   "source": [
    "`⎕NGET` er en funksjon som leser inn informasjon fra en fil, men det kommer også med veldig mye metadata"
   ]
  },
  {
   "cell_type": "code",
   "execution_count": 4,
   "id": "b12eadbb",
   "metadata": {},
   "outputs": [
    {
     "data": {
      "text/html": [
       "<pre class=\"language-APL\">┌─────┬───────────┬──┐\n",
       "│1000 │UTF-8-NOBOM│10│\n",
       "│2000 │           │  │\n",
       "│3000 │           │  │\n",
       "│     │           │  │\n",
       "│4000 │           │  │\n",
       "│     │           │  │\n",
       "│5000 │           │  │\n",
       "│6000 │           │  │\n",
       "│     │           │  │\n",
       "│7000 │           │  │\n",
       "│8000 │           │  │\n",
       "│9000 │           │  │\n",
       "│     │           │  │\n",
       "│10000│           │  │\n",
       "│     │           │  │\n",
       "└─────┴───────────┴──┘\n",
       "</pre>"
      ]
     },
     "execution_count": 4,
     "metadata": {},
     "output_type": "execute_result"
    }
   ],
   "source": [
    "⎕NGET'/Users/trulshj/dev/aoc/2022/inputs/day01.txt'"
   ]
  },
  {
   "cell_type": "markdown",
   "id": "14680813",
   "metadata": {},
   "source": [
    "Hvis vi legger på en `1` etter filnavnet så spesifiserer vi \"modus\" `1` og vi vil få linje for linje istedenfor én lang streng av innholdet til filen"
   ]
  },
  {
   "cell_type": "code",
   "execution_count": 5,
   "id": "3091b4d6",
   "metadata": {},
   "outputs": [
    {
     "data": {
      "text/html": [
       "<pre class=\"language-APL\">┌────────────────────────────────────────────────────────┬───────────┬──┐\n",
       "│┌────┬────┬────┬┬────┬┬────┬────┬┬────┬────┬────┬┬─────┐│UTF-8-NOBOM│10│\n",
       "││1000│2000│3000││4000││5000│6000││7000│8000│9000││10000││           │  │\n",
       "│└────┴────┴────┴┴────┴┴────┴────┴┴────┴────┴────┴┴─────┘│           │  │\n",
       "└────────────────────────────────────────────────────────┴───────────┴──┘\n",
       "</pre>"
      ]
     },
     "execution_count": 5,
     "metadata": {},
     "output_type": "execute_result"
    }
   ],
   "source": [
    "⎕NGET'/Users/trulshj/dev/aoc/2022/inputs/day01.txt'1"
   ]
  },
  {
   "cell_type": "markdown",
   "id": "13330a26",
   "metadata": {},
   "source": [
    "Så kan vi bruke \"first\" `⊃` _(\"Right Shoe\")_ for å velge det første elementet fra vektoren"
   ]
  },
  {
   "cell_type": "code",
   "execution_count": 6,
   "id": "9d3d3871",
   "metadata": {},
   "outputs": [
    {
     "data": {
      "text/html": [
       "<pre class=\"language-APL\">┌────┬────┬────┬┬────┬┬────┬────┬┬────┬────┬────┬┬─────┐\n",
       "│1000│2000│3000││4000││5000│6000││7000│8000│9000││10000│\n",
       "└────┴────┴────┴┴────┴┴────┴────┴┴────┴────┴────┴┴─────┘\n",
       "</pre>"
      ]
     },
     "execution_count": 6,
     "metadata": {},
     "output_type": "execute_result"
    }
   ],
   "source": [
    "⊃⎕NGET'/Users/trulshj/dev/aoc/2022/inputs/day01.txt'1"
   ]
  },
  {
   "cell_type": "markdown",
   "id": "d0533c16",
   "metadata": {},
   "source": [
    "Og boom! Der har vi dataen vår"
   ]
  },
  {
   "cell_type": "markdown",
   "id": "f3b82e28",
   "metadata": {},
   "source": [
    "Så har vi kanskje lyst å massere den litt ved å dele den opp der det er en tom celle, eller i den originale filen der det er dobbel newline"
   ]
  },
  {
   "cell_type": "markdown",
   "id": "6b946f3b",
   "metadata": {},
   "source": [
    "I APL kan man lage kombinatorer som kombinerer funksjoner på gøye måter, en som du vil ofte møte på i APL heter S kombinator og ser slik ut `(gfh)`. Hvor `f` er en funksjon som tar to argumenter og `g` og `h` tar ett argument hver."
   ]
  },
  {
   "cell_type": "markdown",
   "id": "51d3cd73",
   "metadata": {},
   "source": [
    "Dersom man kjører `(gfh)` på et argument `x` sånn som dette `(gfh) x` vil det være det samme som å gjøre `f(g(x),h(x))`, dette hjelper med at man da slipper å manuelt passe `x` inn i hver funksjon og det vil være lettere å \"chaine\" diverse funksjoner"
   ]
  },
  {
   "cell_type": "markdown",
   "id": "fb122613",
   "metadata": {},
   "source": [
    "I løsningen over bruker vi tre sånne kombinatorer hvor den første `(≢¨⊆⊢)` er den som masserer dataen for oss"
   ]
  },
  {
   "cell_type": "markdown",
   "id": "8ae5b880",
   "metadata": {},
   "source": [
    "La oss se på den bit for bit!"
   ]
  },
  {
   "cell_type": "markdown",
   "id": "0effd2c0",
   "metadata": {},
   "source": [
    "_\"Right Tack\"_ `⊢` er rett og slett bare en identitetsfunksjon, hvis du passer inn `x` så får du også ut `x`. Den kan også ta to argumenter og da returnerer den argumentet på høyre siden, men nå bruker vi den i \"monadisk form\" (ett argument)."
   ]
  },
  {
   "cell_type": "markdown",
   "id": "b010f77b",
   "metadata": {},
   "source": [
    "_\"Left Shoe Underbar\"_ `⊆` i \"dyadisk form\" (to argumenter) heter \"partition\" og kan tenkes på som en form av \"split\" i andre språk. "
   ]
  },
  {
   "cell_type": "code",
   "execution_count": 7,
   "id": "a2282526",
   "metadata": {},
   "outputs": [
    {
     "data": {
      "text/html": [
       "<pre class=\"language-APL\">┌─┬───┐\n",
       "│1│4 5│\n",
       "└─┴───┘\n",
       "</pre>"
      ]
     },
     "execution_count": 7,
     "metadata": {},
     "output_type": "execute_result"
    }
   ],
   "source": [
    "1 0 0 1 1 ⊆ 1 2 3 4 5"
   ]
  },
  {
   "cell_type": "code",
   "execution_count": 8,
   "id": "28c892b4",
   "metadata": {},
   "outputs": [
    {
     "data": {
      "text/html": [
       "<pre class=\"language-APL\">┌───┬─────┬─┐\n",
       "│1 2│3 4 5│6│\n",
       "└───┴─────┴─┘\n",
       "</pre>"
      ]
     },
     "execution_count": 8,
     "metadata": {},
     "output_type": "execute_result"
    }
   ],
   "source": [
    "1 1 2 2 2 3 ⊆ 1 2 3 4 5 6"
   ]
  },
  {
   "cell_type": "markdown",
   "id": "2041bc0a",
   "metadata": {},
   "source": [
    "_\"Equal Underbar Slash\"_ `≢` i monadisk form heter \"tally\" og gir deg lengden på en vektor."
   ]
  },
  {
   "cell_type": "code",
   "execution_count": 9,
   "id": "50d6c975",
   "metadata": {},
   "outputs": [
    {
     "data": {
      "text/html": [
       "<pre class=\"language-APL\">3\n",
       "</pre>"
      ]
     },
     "execution_count": 9,
     "metadata": {},
     "output_type": "execute_result"
    }
   ],
   "source": [
    "≢ 1 2 3    ⍝ Hvor lang er listen?"
   ]
  },
  {
   "cell_type": "markdown",
   "id": "90bb8c9d",
   "metadata": {},
   "source": [
    "Dette \"Among Us\"-lignende symbolet `⍝` heter forøvrig _\"Lamp\"_ og indikerer starten på en kommentar"
   ]
  },
  {
   "cell_type": "code",
   "execution_count": 10,
   "id": "2f405a37",
   "metadata": {},
   "outputs": [
    {
     "data": {
      "text/html": [
       "<pre class=\"language-APL\">7\n",
       "</pre>"
      ]
     },
     "execution_count": 10,
     "metadata": {},
     "output_type": "execute_result"
    }
   ],
   "source": [
    "≢ 'Variant'    ⍝ Hvor langt er ordet Variant?"
   ]
  },
  {
   "cell_type": "code",
   "execution_count": 11,
   "id": "7a2e15a7",
   "metadata": {},
   "outputs": [
    {
     "data": {
      "text/html": [
       "<pre class=\"language-APL\">2\n",
       "</pre>"
      ]
     },
     "execution_count": 11,
     "metadata": {},
     "output_type": "execute_result"
    }
   ],
   "source": [
    "≢ (1 2 3) (4 5 6)    ⍝ Hvor lang er listen med lister i?"
   ]
  },
  {
   "cell_type": "markdown",
   "id": "117dceb2",
   "metadata": {},
   "source": [
    "_\"Diaresis\"_ `¨` er det samme som \"map\" i mange andre språk og tar egentlig to argumenter hvor det venstre argumentet er en funksjon og det høyre elementet er en vektor. Sånn at når vi her kombinerer `≢` og `¨` til `≢¨` så vil dette gjelde som én funksjon og vi kan fortsatt fint bruke den i kombinatoren vår."
   ]
  },
  {
   "cell_type": "code",
   "execution_count": 12,
   "id": "620a7399",
   "metadata": {},
   "outputs": [
    {
     "data": {
      "text/html": [
       "<pre class=\"language-APL\">3 3 2 1\n",
       "</pre>"
      ]
     },
     "execution_count": 12,
     "metadata": {},
     "output_type": "execute_result"
    }
   ],
   "source": [
    "≢¨ (1 2 3) (4 5 6) (7 8) (9)    ⍝ Hvor lang er hver enkelt liste?"
   ]
  },
  {
   "cell_type": "markdown",
   "id": "82247e89",
   "metadata": {},
   "source": [
    "For dataen vår vil dette da bli "
   ]
  },
  {
   "cell_type": "code",
   "execution_count": 13,
   "id": "de02d37c",
   "metadata": {},
   "outputs": [
    {
     "data": {
      "text/html": [
       "<pre class=\"language-APL\">4 4 4 0 4 0 4 4 0 4 4 4 0 5\n",
       "</pre>"
      ]
     },
     "execution_count": 13,
     "metadata": {},
     "output_type": "execute_result"
    }
   ],
   "source": [
    "≢¨ data"
   ]
  },
  {
   "cell_type": "markdown",
   "id": "6759912e",
   "metadata": {},
   "source": [
    "Og hvis vi partisjonerer dette igjen så får vi altså delt inn i nye vektorer splittet på hvor det ikke var noen tall"
   ]
  },
  {
   "cell_type": "code",
   "execution_count": 14,
   "id": "ffe496ce",
   "metadata": {},
   "outputs": [
    {
     "data": {
      "text/html": [
       "<pre class=\"language-APL\">┌────────────────┬──────┬───────────┬────────────────┬───────┐\n",
       "│┌────┬────┬────┐│┌────┐│┌────┬────┐│┌────┬────┬────┐│┌─────┐│\n",
       "││1000│2000│3000│││4000│││5000│6000│││7000│8000│9000│││10000││\n",
       "│└────┴────┴────┘│└────┘│└────┴────┘│└────┴────┴────┘│└─────┘│\n",
       "└────────────────┴──────┴───────────┴────────────────┴───────┘\n",
       "</pre>"
      ]
     },
     "execution_count": 14,
     "metadata": {},
     "output_type": "execute_result"
    }
   ],
   "source": [
    "(≢¨⊆⊢) data"
   ]
  },
  {
   "cell_type": "markdown",
   "id": "d1b16c8e",
   "metadata": {},
   "source": [
    "Så! Det vi er interresert i å finne er hvilken alv som har med seg mest snacks i antall kalorier, et naturlig neste steg er da å finne ut hvor mye hver alv har med seg. Da kommer vi til neste kombinator: `(+/⍎¨)¨`"
   ]
  },
  {
   "cell_type": "markdown",
   "id": "6b019f19",
   "metadata": {},
   "source": [
    "De eneste nye tegnene her er _\"Plus\"_ `+`, _\"Slash\"_ `/`, og _\"Hydrant\"_ `⍎`. Av disse er `+` ganske grei, det er bare vanlig addisjon."
   ]
  },
  {
   "cell_type": "markdown",
   "id": "7535054c",
   "metadata": {},
   "source": [
    " `⍎` heter \"execute\" og gjør stort sett det samme som lignende funksjoner i andre språk, den tar bare uttrykket du passer inn og kjører det som om det var en linje med kode. For oss så er dette ganske viktig da tallene våre faktisk ikke er tall ennå! Siden vi leste dem inn fra en tekstfil så tenker APL på dem som strenger, men hvis vi executer dem så blir de til tall!"
   ]
  },
  {
   "cell_type": "code",
   "execution_count": 15,
   "id": "c39772c4",
   "metadata": {},
   "outputs": [
    {
     "data": {
      "text/html": [
       "<pre class=\"language-APL\">12345\n",
       "</pre>"
      ]
     },
     "execution_count": 15,
     "metadata": {},
     "output_type": "execute_result"
    }
   ],
   "source": [
    "⍎'12345'"
   ]
  },
  {
   "cell_type": "code",
   "execution_count": 16,
   "id": "48dbf348",
   "metadata": {},
   "outputs": [
    {
     "name": "stderr",
     "output_type": "stream",
     "text": [
      "DOMAIN ERROR\n",
      "      '123'+'456'    ⍝ Ai! Vi kan ikke plusse to strenger\n",
      "           ∧\n"
     ]
    }
   ],
   "source": [
    "'123' + '456'    ⍝ Ai! Vi kan ikke plusse to strenger"
   ]
  },
  {
   "cell_type": "code",
   "execution_count": 17,
   "id": "b992f85e",
   "metadata": {},
   "outputs": [
    {
     "data": {
      "text/html": [
       "<pre class=\"language-APL\">579\n",
       "</pre>"
      ]
     },
     "execution_count": 17,
     "metadata": {},
     "output_type": "execute_result"
    }
   ],
   "source": [
    "(⍎'123') + (⍎'456')"
   ]
  },
  {
   "cell_type": "markdown",
   "id": "172795b1",
   "metadata": {},
   "source": [
    "Så kommer vi til en gøy en; `/` er det samme som reduce! Argumentet til venstre sier hvilken funksjon man skal bruke til å reduce med. I javascript så kan man jo si dette for å redusere en array med `+`:\n",
    "```javascript\n",
    "const initialValue = 0;\n",
    "const sumWithInitial = myArray.reduce(\n",
    "  (accumulator, currentValue) => accumulator + currentValue,\n",
    "  initialValue\n",
    ");\n",
    "```"
   ]
  },
  {
   "cell_type": "markdown",
   "id": "191cefd8",
   "metadata": {},
   "source": [
    "I APL så er et tilsvarende uttrykk `+/`. Yup."
   ]
  },
  {
   "cell_type": "markdown",
   "id": "87c108d7",
   "metadata": {},
   "source": [
    "Så! Det denne `(+/⍎¨)¨` kombinatoren gjør er:\n",
    "\n",
    "1. For hvert element i en liste\n",
    "2. For hvert under-element i elementet\n",
    "3. Execute under-elementet for å gjøre det fra en streng til et tall\n",
    "4. Reduser hele elementet med `+` (samme som sum)"
   ]
  },
  {
   "cell_type": "markdown",
   "id": "d084256f",
   "metadata": {},
   "source": [
    "Hvis vi gjør det på dataen vår så får vi en pen liste som dette:"
   ]
  },
  {
   "cell_type": "code",
   "execution_count": 18,
   "id": "fcb2d82f",
   "metadata": {},
   "outputs": [
    {
     "data": {
      "text/html": [
       "<pre class=\"language-APL\">6000 4000 11000 24000 10000\n",
       "</pre>"
      ]
     },
     "execution_count": 18,
     "metadata": {},
     "output_type": "execute_result"
    }
   ],
   "source": [
    "(+/⍎¨)¨ (≢¨⊆⊢) data"
   ]
  },
  {
   "cell_type": "markdown",
   "id": "2523ccf0",
   "metadata": {},
   "source": [
    "Da har vi summen av antall kalorier som hver alv bærer på. Så, hvordan finner vi max?"
   ]
  },
  {
   "cell_type": "markdown",
   "id": "70f9ddf7",
   "metadata": {},
   "source": [
    "Sortering!"
   ]
  },
  {
   "cell_type": "markdown",
   "id": "790a2d0f",
   "metadata": {},
   "source": [
    "La oss introdusere en ny kombinator med enda flere symboler! `(⊂∘⍒⌷⊢)`"
   ]
  },
  {
   "cell_type": "markdown",
   "id": "e545527a",
   "metadata": {},
   "source": [
    "`⊢` har vi allerede sett så den trenger vi ikke dekke igjen."
   ]
  },
  {
   "cell_type": "markdown",
   "id": "a42892b4",
   "metadata": {},
   "source": [
    "`⍒` heter _\"Grade Down\"_ som er nesten det samme som sortering, men istedenfor å gi oss en sortert vektor tilbake, så gir den oss indekser til listen som vil resultere i en sortert liste."
   ]
  },
  {
   "cell_type": "code",
   "execution_count": 19,
   "id": "f51dd260",
   "metadata": {},
   "outputs": [
    {
     "data": {
      "text/html": [
       "<pre class=\"language-APL\">2 4 1 3 5\n",
       "</pre>"
      ]
     },
     "execution_count": 19,
     "metadata": {},
     "output_type": "execute_result"
    }
   ],
   "source": [
    "⍒ 27 83 11 74 0"
   ]
  },
  {
   "cell_type": "markdown",
   "id": "f6fe9e77",
   "metadata": {},
   "source": [
    "Teknisk sett så kan vi sortere listen ved å plugge disse indeksene rett inn i `[]` sånn som man indekserer en liste i andre språk, men da må vi referere til argumentene flere steder som gjør at det er vanskeligere å komposere funksjonen senere med andre funksjoner, men dette ville da sett slik ut"
   ]
  },
  {
   "cell_type": "code",
   "execution_count": 20,
   "id": "af8033d4",
   "metadata": {},
   "outputs": [
    {
     "data": {
      "text/html": [
       "<pre class=\"language-APL\">83 74 27 11 0\n",
       "</pre>"
      ]
     },
     "execution_count": 20,
     "metadata": {},
     "output_type": "execute_result"
    }
   ],
   "source": [
    "x ← 27 83 11 74 0\n",
    "x[⍒x]    ⍝ Indekser listen vår med de sorterte indeksene"
   ]
  },
  {
   "cell_type": "markdown",
   "id": "6b0f8cdd",
   "metadata": {},
   "source": [
    "Istedenfor å gjøre det slik kan vi bruke \"index\"-funksjonen `⌷` _(\"Squad\")_! Til den kan du passe inn indekser på venstresiden og en vektor på høyresiden så returnerer den elementene på de indeksene, relativt rett frem."
   ]
  },
  {
   "cell_type": "code",
   "execution_count": 21,
   "id": "41be506a",
   "metadata": {},
   "outputs": [
    {
     "data": {
      "text/html": [
       "<pre class=\"language-APL\">83 27 0\n",
       "</pre>"
      ]
     },
     "execution_count": 21,
     "metadata": {},
     "output_type": "execute_result"
    }
   ],
   "source": [
    "(⊂2 1 5) ⌷ x"
   ]
  },
  {
   "cell_type": "markdown",
   "id": "d3b7d50e",
   "metadata": {},
   "source": [
    "Legg merke til at vi må bruke _\"Left Shoe\"_ `⊂` for å få lov til å gjøre dette. Denne funksjonen heter \"enclose\" og stapper en hel vektor inn i en ny vektor som ett enkelt element"
   ]
  },
  {
   "cell_type": "code",
   "execution_count": 22,
   "id": "c5b76acd",
   "metadata": {},
   "outputs": [
    {
     "data": {
      "text/html": [
       "<pre class=\"language-APL\">┌─────┐\n",
       "│2 1 5│\n",
       "└─────┘\n",
       "</pre>"
      ]
     },
     "execution_count": 22,
     "metadata": {},
     "output_type": "execute_result"
    }
   ],
   "source": [
    "⊂ 2 1 5"
   ]
  },
  {
   "cell_type": "code",
   "execution_count": 23,
   "id": "1e639012",
   "metadata": {},
   "outputs": [
    {
     "data": {
      "text/html": [
       "<pre class=\"language-APL\">2 1 5\n",
       "</pre>"
      ]
     },
     "execution_count": 23,
     "metadata": {},
     "output_type": "execute_result"
    }
   ],
   "source": [
    "2 1 5"
   ]
  },
  {
   "cell_type": "markdown",
   "id": "15d6f20b",
   "metadata": {},
   "source": [
    "Dette må vi gjøre for å få lov til å indeksere den originale vektoren på denne måten med `⌷`, hvorfor det går an å lese om [her](https://xpqz.github.io/learnapl/indexing.html#functional-indexing)."
   ]
  },
  {
   "cell_type": "markdown",
   "id": "903a3e66",
   "metadata": {},
   "source": [
    "_\"Jot\"_ `∘` heter \"bind\" (ofte også kalt \"compose\") og blir brukt for å knytte sammen to funksjoner for å lage en ny komposert funksjon."
   ]
  },
  {
   "cell_type": "code",
   "execution_count": 24,
   "id": "b888e91f",
   "metadata": {},
   "outputs": [
    {
     "data": {
      "text/html": [
       "<pre class=\"language-APL\">2 3 4 5 6\n",
       "</pre>"
      ]
     },
     "execution_count": 24,
     "metadata": {},
     "output_type": "execute_result"
    }
   ],
   "source": [
    "Increment ← +∘1\n",
    "Increment 1 2 3 4 5"
   ]
  },
  {
   "cell_type": "markdown",
   "id": "62f686fb",
   "metadata": {},
   "source": [
    "`⊂∘⍒` blir da altså en funksjon som _graderer ned_ **og** _pakker inn_ et vektor"
   ]
  },
  {
   "cell_type": "code",
   "execution_count": 25,
   "id": "b9270174",
   "metadata": {},
   "outputs": [
    {
     "data": {
      "text/html": [
       "<pre class=\"language-APL\">┌─────────┐\n",
       "│2 4 1 3 5│\n",
       "└─────────┘\n",
       "</pre>"
      ]
     },
     "execution_count": 25,
     "metadata": {},
     "output_type": "execute_result"
    },
    {
     "data": {
      "text/html": [
       "<pre class=\"language-APL\">2 4 1 3 5\n",
       "</pre>"
      ]
     },
     "execution_count": 25,
     "metadata": {},
     "output_type": "execute_result"
    }
   ],
   "source": [
    "⊂∘⍒ x\n",
    "⍝ vs. \n",
    "⍒ x"
   ]
  },
  {
   "cell_type": "markdown",
   "id": "dae0f474",
   "metadata": {},
   "source": [
    "Alle disse kombinert til dette blir da egentlig bare en litt knotete måte å sortere en vektor på hvor du kun trenger å bruke argumentet én gang på høyre side `(⊂∘⍒⌷⊢)`"
   ]
  },
  {
   "cell_type": "code",
   "execution_count": 26,
   "id": "510ed858",
   "metadata": {},
   "outputs": [
    {
     "data": {
      "text/html": [
       "<pre class=\"language-APL\">27 83 11 74 0\n",
       "</pre>"
      ]
     },
     "execution_count": 26,
     "metadata": {},
     "output_type": "execute_result"
    },
    {
     "data": {
      "text/html": [
       "<pre class=\"language-APL\">83 74 27 11 0\n",
       "</pre>"
      ]
     },
     "execution_count": 26,
     "metadata": {},
     "output_type": "execute_result"
    }
   ],
   "source": [
    "x\n",
    "(⊂∘⍒⌷⊢) x"
   ]
  },
  {
   "cell_type": "markdown",
   "id": "eab584be",
   "metadata": {},
   "source": [
    "Nå kan vi endelig sortere listen vår! Og da er det ikke mye som gjenstår for både del 1 og del 2 av Advent of Code 2022 dag 1"
   ]
  },
  {
   "cell_type": "code",
   "execution_count": 27,
   "id": "35136047",
   "metadata": {},
   "outputs": [
    {
     "data": {
      "text/html": [
       "<pre class=\"language-APL\">24000 11000 10000 6000 4000\n",
       "</pre>"
      ]
     },
     "execution_count": 27,
     "metadata": {},
     "output_type": "execute_result"
    }
   ],
   "source": [
    "(⊂∘⍒⌷⊢) (+/⍎¨)¨ (≢¨⊆⊢) data"
   ]
  },
  {
   "cell_type": "markdown",
   "id": "1a8bfeec",
   "metadata": {},
   "source": [
    "Svaret på del 1 har vi allerede, det er hva er det meste kaloier én alv bærer, sånn at her blir det det første elementet: `24000` "
   ]
  },
  {
   "cell_type": "markdown",
   "id": "5ba3e822",
   "metadata": {},
   "source": [
    "Del 2 spør oss om summen av topp 3 kalorimengder, og her har vi noe veldig lurt vi kan gjøre, nemlig en \"plus scan\" `+\\`!"
   ]
  },
  {
   "cell_type": "markdown",
   "id": "aad792b8",
   "metadata": {},
   "source": [
    "Det en scan gjør er nesten det samme som en reduce, bare at vi beholder alle mellomresultatene"
   ]
  },
  {
   "cell_type": "code",
   "execution_count": 28,
   "id": "9fd40af2",
   "metadata": {},
   "outputs": [],
   "source": [
    "x ← 1 3 2 1 1"
   ]
  },
  {
   "cell_type": "code",
   "execution_count": 29,
   "id": "2714ad7d",
   "metadata": {},
   "outputs": [
    {
     "data": {
      "text/html": [
       "<pre class=\"language-APL\">8\n",
       "</pre>"
      ]
     },
     "execution_count": 29,
     "metadata": {},
     "output_type": "execute_result"
    }
   ],
   "source": [
    "+/ x    ⍝ Plus Reduce "
   ]
  },
  {
   "cell_type": "code",
   "execution_count": 30,
   "id": "ace5cf64",
   "metadata": {},
   "outputs": [
    {
     "data": {
      "text/html": [
       "<pre class=\"language-APL\">1 4 6 7 8\n",
       "</pre>"
      ]
     },
     "execution_count": 30,
     "metadata": {},
     "output_type": "execute_result"
    }
   ],
   "source": [
    "+\\ x    ⍝ Plus Scan"
   ]
  },
  {
   "cell_type": "markdown",
   "id": "72acfb80",
   "metadata": {},
   "source": [
    "Her ser vi at i scannen så går den gjennom og plusser på hvert element opp til det elementet man er på i listen, imens reduce bare gir deg det siste elementet."
   ]
  },
  {
   "cell_type": "markdown",
   "id": "4f1aa1e5",
   "metadata": {},
   "source": [
    "Dersom vi gjør en plus scan på det vi har kommet frem til så langt så får vi noe interresant:"
   ]
  },
  {
   "cell_type": "code",
   "execution_count": 31,
   "id": "73e3248d",
   "metadata": {},
   "outputs": [
    {
     "data": {
      "text/html": [
       "<pre class=\"language-APL\">24000 35000 45000 51000 55000\n",
       "</pre>"
      ]
     },
     "execution_count": 31,
     "metadata": {},
     "output_type": "execute_result"
    }
   ],
   "source": [
    "+\\ (⊂∘⍒⌷⊢) (+/⍎¨)¨ (≢¨⊆⊢) data"
   ]
  },
  {
   "cell_type": "markdown",
   "id": "8ec5efec",
   "metadata": {},
   "source": [
    "Her er:\n",
    "- Det 1. elementet er summen av topp 1 alver og hvor mange kalorier de bærer\n",
    "- Det 2. elementet er summen av topp 2 alver og hvor mange kalorier de bærer\n",
    "- Det 3. elementet er summen av topp 3 alver....\n",
    "- Det 4. eleme....\n",
    "- osv."
   ]
  },
  {
   "cell_type": "markdown",
   "id": "1f8004e2",
   "metadata": {},
   "source": [
    "Altså! For del 2 av oppgaven trenger vi bare se på det tredje elementet fra dette resultatet for å finne topp 3 alver og hvor mye de bærer til sammen, det første elementet også riktig for oppgave 1! Vi kan hente ut disse elementene spesifikt ved å indeksere på \"normalt\" vis `[1 3]`"
   ]
  },
  {
   "cell_type": "code",
   "execution_count": 32,
   "id": "db242cc9",
   "metadata": {},
   "outputs": [
    {
     "data": {
      "text/html": [
       "<pre class=\"language-APL\">24000 45000\n",
       "</pre>"
      ]
     },
     "execution_count": 32,
     "metadata": {},
     "output_type": "execute_result"
    }
   ],
   "source": [
    "(+\\ (⊂∘⍒⌷⊢) (+/⍎¨)¨ (≢¨⊆⊢) data)[1 3]"
   ]
  },
  {
   "cell_type": "markdown",
   "id": "7f11b7ae",
   "metadata": {},
   "source": [
    "Og tada! Der har vi både del 1 og 2 :)"
   ]
  }
 ],
 "metadata": {
  "kernelspec": {
   "display_name": "Dyalog APL",
   "language": "apl",
   "name": "dyalog-kernel"
  },
  "language_info": {
   "file_extension": ".apl",
   "mimetype": "text/apl",
   "name": "apl"
  }
 },
 "nbformat": 4,
 "nbformat_minor": 5
}
